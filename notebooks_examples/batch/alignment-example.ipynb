{
 "cells": [
  {
   "cell_type": "markdown",
   "id": "lasting-confusion",
   "metadata": {
    "toc": true
   },
   "source": [
    "<h1>Table of Contents<span class=\"tocSkip\"></span></h1>\n",
    "<div class=\"toc\"><ul class=\"toc-item\"></ul></div>"
   ]
  },
  {
   "cell_type": "code",
   "execution_count": null,
   "id": "intense-portrait",
   "metadata": {},
   "outputs": [],
   "source": [
    "# Do once to get all libraries up to date\n",
    "if False:\n",
    "    !pip install -U pandas numpy process_improve plotly IPython\n",
    "\n",
    "import pathlib\n",
    "from process_improve.batch.preprocessing import find_reference_batch, batch_dtw\n",
    "from process_improve.batch.data_input import melted_to_dict\n",
    "from process_improve.batch.plotting  import plot__all_batches_per_tag\n",
    "import plotly.graph_objs as go\n",
    "from plotly.offline import iplot, init_notebook_mode\n",
    "from IPython.core.display import display, HTML\n",
    "import pandas as pd"
   ]
  },
  {
   "cell_type": "code",
   "execution_count": null,
   "id": "hungry-health",
   "metadata": {},
   "outputs": [],
   "source": [
    "# Settings\n",
    "init_notebook_mode(connected=True)\n",
    "display(HTML(\"<style>.container { width:100% !important; }</style>\"))\n",
    "\n",
    "# Ideally, use more than 1 tag to align on. These columns must exist in all data frames for all batches. There should be NO missing data in any columns.\n",
    "columns_to_align = [\"AgitatorPower\", \"AgitatorTorque\", \"JacketTemperature\", \"DryerTemp\"]\n",
    "tag_to_plot = columns_to_align[3]"
   ]
  },
  {
   "cell_type": "code",
   "execution_count": null,
   "id": "third-property",
   "metadata": {},
   "outputs": [],
   "source": [
    "# Import the data: a dictionary of dataframes\n",
    "import process_improve.datasets.batch as batch_ds \n",
    "\n",
    "dryer_raw = pd.read_csv(pathlib.Path(batch_ds.__path__._recalculate()[0]) / \"dryer.csv\")\n",
    "dryer_df_dict = melted_to_dict(dryer_raw, batch_id_col=\"batch_id\")\n",
    "dryer_df_dict.keys()"
   ]
  },
  {
   "cell_type": "code",
   "execution_count": null,
   "id": "attached-attempt",
   "metadata": {},
   "outputs": [],
   "source": [
    "# Plot some data, to get an idea of what is present\n",
    "iplot(plot__all_batches_per_tag(df_dict=dryer_df_dict, \n",
    "                                tag=tag_to_plot,  \n",
    "                                time_column =\"ClockTime\", \n",
    "                                x_axis_label=\"Time [hours]\"))"
   ]
  },
  {
   "cell_type": "code",
   "execution_count": null,
   "id": "enabling-anger",
   "metadata": {},
   "outputs": [],
   "source": [
    "# What is a good batch number to align on?\n",
    "good_reference_candidate = find_reference_batch(dryer_df_dict, \n",
    "                                                columns_to_align=columns_to_align, \n",
    "                                                settings={\"robust\": False})\n",
    "good_reference_candidate"
   ]
  },
  {
   "cell_type": "code",
   "execution_count": null,
   "id": "greater-prototype",
   "metadata": {},
   "outputs": [],
   "source": [
    "# Align the data based on the reference candidate, using the specified tags/columns.\n",
    "aligned_out = batch_dtw(dryer_df_dict, columns_to_align=columns_to_align,\n",
    "        reference_batch=good_reference_candidate,\n",
    "        settings={\n",
    "            \"robust\": False,\n",
    "            \n",
    "            # High tolerance of around 1.0 will run alignment only once; \n",
    "            # Typically set to 0.1, so that at least 2 or 3 iterations of alignment take place\n",
    "            \"tolerance\": 0.05, \n",
    "             \n",
    "            \"show_progress\": True, # show progress: shows total \"distance\" of batch relative to the reference\n",
    "        },  \n",
    "    )\n",
    "    "
   ]
  },
  {
   "cell_type": "code",
   "execution_count": null,
   "id": "abandoned-turner",
   "metadata": {},
   "outputs": [],
   "source": [
    "# NOTE: this is still in progress. The library API will change ito what the output from `batch_dtw` is.\n",
    "# For now you have to do a bit of post-processing on the result.\n",
    "synced = {}\n",
    "for batch_id, result in aligned_out['aligned_batch_objects'].items():\n",
    "    synced[batch_id] = result.synced * aligned_out['scale_df']['Range'] + aligned_out['scale_df']['Minimum']\n",
    "    "
   ]
  },
  {
   "cell_type": "code",
   "execution_count": null,
   "id": "wired-relevance",
   "metadata": {},
   "outputs": [],
   "source": [
    "print('Weight history (the higher the weight, the greater the importance of that tag in the alignment process):')\n",
    "display(pd.DataFrame(aligned_out['weight_history'], columns=columns_to_align))"
   ]
  },
  {
   "cell_type": "code",
   "execution_count": null,
   "id": "brilliant-button",
   "metadata": {},
   "outputs": [],
   "source": [
    "# Plot the aligned (synced) data\n",
    "iplot(plot__all_batches_per_tag(synced, tag_to_plot, x_axis_label='Normalized duration', html_aspect_ratio_w_over_h=2))"
   ]
  }
 ],
 "metadata": {
  "kernelspec": {
   "display_name": "Python 3",
   "language": "python",
   "name": "python3"
  },
  "language_info": {
   "codemirror_mode": {
    "name": "ipython",
    "version": 3
   },
   "file_extension": ".py",
   "mimetype": "text/x-python",
   "name": "python",
   "nbconvert_exporter": "python",
   "pygments_lexer": "ipython3",
   "version": "3.8.5"
  },
  "toc": {
   "base_numbering": 1,
   "nav_menu": {},
   "number_sections": true,
   "sideBar": true,
   "skip_h1_title": true,
   "title_cell": "Table of Contents",
   "title_sidebar": "Contents",
   "toc_cell": true,
   "toc_position": {},
   "toc_section_display": true,
   "toc_window_display": false
  }
 },
 "nbformat": 4,
 "nbformat_minor": 5
}
