{
 "cells": [
  {
   "cell_type": "markdown",
   "id": "neither-refrigerator",
   "metadata": {
    "toc": true
   },
   "source": [
    "<h1>Table of Contents<span class=\"tocSkip\"></span></h1>\n",
    "<div class=\"toc\"><ul class=\"toc-item\"><li><span><a href=\"#Case-study-description\" data-toc-modified-id=\"Case-study-description-1\"><span class=\"toc-item-num\">1&nbsp;&nbsp;</span>Case study description</a></span></li><li><span><a href=\"#Try-some-Python-commands-yourself\" data-toc-modified-id=\"Try-some-Python-commands-yourself-2\"><span class=\"toc-item-num\">2&nbsp;&nbsp;</span>Try some Python commands yourself</a></span></li></ul></div>"
   ]
  },
  {
   "cell_type": "markdown",
   "id": "intimate-cameroon",
   "metadata": {},
   "source": [
    "Details about the notebook\n",
    "\n",
    "* Load data\n",
    "* Explore data: table, plots\n",
    "* Load another dataset and merge\n",
    "* Choose a column and predict another column, based on a least-squares model\n",
    "* Quantify how good the predictions are\n",
    "* Try different prediction models\n",
    "* User-interface to test our predictions\n",
    "* Export the results\n",
    "* Try Python commands yourself\n",
    "* Next steps"
   ]
  },
  {
   "cell_type": "markdown",
   "id": "confused-effect",
   "metadata": {},
   "source": [
    "## Case study description\n",
    "\n",
    "Goes here"
   ]
  },
  {
   "cell_type": "code",
   "execution_count": null,
   "id": "effective-stations",
   "metadata": {},
   "outputs": [],
   "source": [
    "import plotly.io as pio\n",
    "pio.renderers.default = \"notebook\" # jupyterlab"
   ]
  },
  {
   "cell_type": "code",
   "execution_count": null,
   "id": "saved-union",
   "metadata": {},
   "outputs": [],
   "source": [
    "import plotly.graph_objects as go"
   ]
  },
  {
   "cell_type": "code",
   "execution_count": null,
   "id": "express-cuisine",
   "metadata": {},
   "outputs": [],
   "source": [
    "import numpy as np\n",
    "import pandas as pd\n",
    "import plotly\n",
    "pd.options.plotting.backend = \"plotly\""
   ]
  },
  {
   "cell_type": "code",
   "execution_count": null,
   "id": "oriented-wiring",
   "metadata": {},
   "outputs": [],
   "source": [
    "spectra = pd.read_csv('calX.csv', index_col=0)\n",
    "spectra.shape"
   ]
  },
  {
   "cell_type": "code",
   "execution_count": null,
   "id": "cutting-bruce",
   "metadata": {},
   "outputs": [],
   "source": []
  },
  {
   "cell_type": "code",
   "execution_count": null,
   "id": "japanese-commissioner",
   "metadata": {},
   "outputs": [],
   "source": [
    "# Fix up the column names: spectral wavelengths, from 600 to 1900nm, in steps of 2nm\n",
    "spectra.columns = np.arange(600, 1900, 2)   # (start, stop, stepsize)"
   ]
  },
  {
   "cell_type": "code",
   "execution_count": null,
   "id": "enclosed-sellers",
   "metadata": {},
   "outputs": [],
   "source": [
    "spectra.head()"
   ]
  },
  {
   "cell_type": "code",
   "execution_count": null,
   "id": "identical-oxide",
   "metadata": {},
   "outputs": [],
   "source": [
    "#df = spectra.T\n",
    "#df.shape"
   ]
  },
  {
   "cell_type": "code",
   "execution_count": null,
   "id": "hollywood-sunday",
   "metadata": {},
   "outputs": [],
   "source": [
    "# Show the top of the data set\n",
    "#df.head()"
   ]
  },
  {
   "cell_type": "code",
   "execution_count": null,
   "id": "unique-trailer",
   "metadata": {},
   "outputs": [],
   "source": [
    "# Show the end of the data set\n",
    "#df.tail()"
   ]
  },
  {
   "cell_type": "code",
   "execution_count": null,
   "id": "local-scholarship",
   "metadata": {},
   "outputs": [],
   "source": [
    "# Show 10 randomly selected rows\n",
    "#df.sample(10)"
   ]
  },
  {
   "cell_type": "code",
   "execution_count": null,
   "id": "behavioral-rehabilitation",
   "metadata": {},
   "outputs": [],
   "source": [
    "# Show a randomly selected row; and plot these rows\n",
    "spectra.sample(1).iloc[0].plot(title=\"Plot of a randomly selected spectrum\")\n"
   ]
  },
  {
   "cell_type": "code",
   "execution_count": null,
   "id": "through-domain",
   "metadata": {},
   "outputs": [],
   "source": [
    "# Improve the figure\n",
    "fig=spectra.sample(1).iloc[0].plot(title=\"Plot of a randomly selected spectrum\")\n",
    "fig.update_layout(xaxis_title_text=\"Wavelength [nm]\")\n",
    "fig.update_layout(yaxis_title_text=\"Absorbance\")"
   ]
  },
  {
   "cell_type": "code",
   "execution_count": null,
   "id": "bottom-internship",
   "metadata": {},
   "outputs": [],
   "source": []
  },
  {
   "cell_type": "code",
   "execution_count": null,
   "id": "portuguese-maple",
   "metadata": {},
   "outputs": [],
   "source": []
  },
  {
   "cell_type": "code",
   "execution_count": null,
   "id": "cardiovascular-softball",
   "metadata": {},
   "outputs": [],
   "source": [
    "outputs = pd.read_csv('calY.csv', index_col=0)\n",
    "outputs.shape"
   ]
  },
  {
   "cell_type": "code",
   "execution_count": null,
   "id": "backed-master",
   "metadata": {},
   "outputs": [],
   "source": [
    "outputs.head()"
   ]
  },
  {
   "cell_type": "code",
   "execution_count": null,
   "id": "southern-feedback",
   "metadata": {},
   "outputs": [],
   "source": [
    "outputs.columns = ['Hardness', 'Activity', 'Something']\n",
    "outputs"
   ]
  },
  {
   "cell_type": "code",
   "execution_count": null,
   "id": "turned-orbit",
   "metadata": {},
   "outputs": [],
   "source": [
    "# Explore the outputs\n",
    "display(outputs['Something'].plot.line())\n",
    "display(outputs['Something'].plot.hist(nbins=30))\n",
    "display(outputs['Something'].plot.box())"
   ]
  },
  {
   "cell_type": "code",
   "execution_count": null,
   "id": "educational-karen",
   "metadata": {},
   "outputs": [],
   "source": [
    "# Summary statistics for each column\n",
    "display(outputs.mean())\n",
    "display(outputs.median())\n",
    "display(outputs.std())\n",
    "display(outputs.min())\n"
   ]
  },
  {
   "cell_type": "code",
   "execution_count": null,
   "id": "simple-doctrine",
   "metadata": {},
   "outputs": [],
   "source": []
  },
  {
   "cell_type": "code",
   "execution_count": null,
   "id": "acting-prefix",
   "metadata": {},
   "outputs": [],
   "source": []
  },
  {
   "cell_type": "code",
   "execution_count": null,
   "id": "informative-literature",
   "metadata": {},
   "outputs": [],
   "source": [
    "# Join the two data sets\n",
    "joined = spectra.merge(outputs, left_index=True, right_index=True)\n",
    "joined[[101, 'Activity']].corr()\n",
    "\n",
    "#.plot(y='Hardness')"
   ]
  },
  {
   "cell_type": "code",
   "execution_count": null,
   "id": "unlikely-glance",
   "metadata": {},
   "outputs": [],
   "source": [
    "joined.corr()['Something'].plot()\n",
    "\n"
   ]
  },
  {
   "cell_type": "code",
   "execution_count": null,
   "id": "greater-kingston",
   "metadata": {},
   "outputs": [],
   "source": [
    "outputs.corr()"
   ]
  },
  {
   "cell_type": "code",
   "execution_count": null,
   "id": "exempt-snake",
   "metadata": {},
   "outputs": [],
   "source": []
  },
  {
   "cell_type": "code",
   "execution_count": null,
   "id": "iraqi-intellectual",
   "metadata": {},
   "outputs": [],
   "source": []
  },
  {
   "cell_type": "code",
   "execution_count": null,
   "id": "interstate-privacy",
   "metadata": {},
   "outputs": [],
   "source": [
    "from sklearn.linear_model import LinearRegression"
   ]
  },
  {
   "cell_type": "code",
   "execution_count": null,
   "id": "critical-jewel",
   "metadata": {},
   "outputs": [],
   "source": [
    "# Let's visualize it instead, as a heat map.\n",
    "sns.set(rc={'figure.figsize':(15, 15)})\n",
    "sns.heatmap(distill.corr());\n",
    "\n",
    "# This is not so attractive. Use a different colour map (cmap):\n",
    "cmap = sns.diverging_palette(220, 10, as_cmap=True)\n",
    "sns.heatmap(distill.corr(), cmap=cmap,  square=True, linewidths=0.2, cbar_kws={\"shrink\": 0.5});"
   ]
  },
  {
   "cell_type": "code",
   "execution_count": null,
   "id": "metallic-harmony",
   "metadata": {},
   "outputs": [],
   "source": []
  },
  {
   "cell_type": "code",
   "execution_count": null,
   "id": "packed-classics",
   "metadata": {},
   "outputs": [],
   "source": [
    "mymodel = LinearRegression()\n",
    "mymodel.fit(X, y)\n"
   ]
  },
  {
   "cell_type": "code",
   "execution_count": null,
   "id": "contrary-ballot",
   "metadata": {},
   "outputs": [],
   "source": [
    "import seaborn as sns\n",
    "ax = sns.regplot(x=\"InvTemp3\", y=\"VapourPressure\", data=distill)\n",
    "ax.grid(True)"
   ]
  },
  {
   "cell_type": "markdown",
   "id": "built-harvey",
   "metadata": {},
   "source": [
    "## Try some Python commands yourself"
   ]
  },
  {
   "cell_type": "code",
   "execution_count": null,
   "id": "experienced-baseline",
   "metadata": {},
   "outputs": [],
   "source": [
    "print('Hi, my name is ____.')"
   ]
  },
  {
   "cell_type": "code",
   "execution_count": null,
   "id": "sporting-newfoundland",
   "metadata": {},
   "outputs": [],
   "source": [
    "# Creating variables:\n",
    "\n",
    "temperature_in_F = 212.0\n",
    "temperature_in_C = ...\n"
   ]
  },
  {
   "cell_type": "code",
   "execution_count": null,
   "id": "geological-composite",
   "metadata": {},
   "outputs": [],
   "source": []
  },
  {
   "cell_type": "code",
   "execution_count": null,
   "id": "otherwise-labor",
   "metadata": {},
   "outputs": [],
   "source": []
  }
 ],
 "metadata": {
  "hide_input": false,
  "kernelspec": {
   "display_name": "Python 3.8.1 64-bit ('datamore': conda)",
   "language": "python",
   "name": "python38164bitdatamorecondaa593c68fc1f346a2934b9009f36eb8d6"
  },
  "language_info": {
   "codemirror_mode": {
    "name": "ipython",
    "version": 3
   },
   "file_extension": ".py",
   "mimetype": "text/x-python",
   "name": "python",
   "nbconvert_exporter": "python",
   "pygments_lexer": "ipython3",
   "version": "3.8.1"
  },
  "toc": {
   "base_numbering": 1,
   "nav_menu": {},
   "number_sections": true,
   "sideBar": true,
   "skip_h1_title": true,
   "title_cell": "Table of Contents",
   "title_sidebar": "Contents",
   "toc_cell": true,
   "toc_position": {},
   "toc_section_display": true,
   "toc_window_display": true
  },
  "varInspector": {
   "cols": {
    "lenName": 16,
    "lenType": 16,
    "lenVar": 40
   },
   "kernels_config": {
    "python": {
     "delete_cmd_postfix": "",
     "delete_cmd_prefix": "del ",
     "library": "var_list.py",
     "varRefreshCmd": "print(var_dic_list())"
    },
    "r": {
     "delete_cmd_postfix": ") ",
     "delete_cmd_prefix": "rm(",
     "library": "var_list.r",
     "varRefreshCmd": "cat(var_dic_list()) "
    }
   },
   "types_to_exclude": [
    "module",
    "function",
    "builtin_function_or_method",
    "instance",
    "_Feature"
   ],
   "window_display": false
  }
 },
 "nbformat": 4,
 "nbformat_minor": 5
}
