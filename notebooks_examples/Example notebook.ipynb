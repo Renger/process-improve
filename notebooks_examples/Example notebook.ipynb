{
 "cells": [
  {
   "cell_type": "markdown",
   "id": "south-aruba",
   "metadata": {
    "toc": true
   },
   "source": [
    "<h1>Table of Contents<span class=\"tocSkip\"></span></h1>\n",
    "<div class=\"toc\"><ul class=\"toc-item\"><li><span><a href=\"#Case-study-description\" data-toc-modified-id=\"Case-study-description-1\"><span class=\"toc-item-num\">1&nbsp;&nbsp;</span>Case study description</a></span></li><li><span><a href=\"#Read-in-the-data-set\" data-toc-modified-id=\"Read-in-the-data-set-2\"><span class=\"toc-item-num\">2&nbsp;&nbsp;</span>Read in the data set</a></span></li><li><span><a href=\"#Explore-data:-show-some-tables-and-plots\" data-toc-modified-id=\"Explore-data:-show-some-tables-and-plots-3\"><span class=\"toc-item-num\">3&nbsp;&nbsp;</span>Explore data: show some tables and plots</a></span></li><li><span><a href=\"#Load-another-dataset;-merge-the-two-data-tables\" data-toc-modified-id=\"Load-another-dataset;-merge-the-two-data-tables-4\"><span class=\"toc-item-num\">4&nbsp;&nbsp;</span>Load another dataset; merge the two data tables</a></span></li><li><span><a href=\"#Choose-a-column-and-predict-another-column,-based-on-a-least-squares-model\" data-toc-modified-id=\"Choose-a-column-and-predict-another-column,-based-on-a-least-squares-model-5\"><span class=\"toc-item-num\">5&nbsp;&nbsp;</span>Choose a column and predict another column, based on a least-squares model</a></span></li><li><span><a href=\"#Quantify-how-good-the-predictions-are\" data-toc-modified-id=\"Quantify-how-good-the-predictions-are-6\"><span class=\"toc-item-num\">6&nbsp;&nbsp;</span>Quantify how good the predictions are</a></span></li><li><span><a href=\"#User-interface-to-test-our-predictions\" data-toc-modified-id=\"User-interface-to-test-our-predictions-7\"><span class=\"toc-item-num\">7&nbsp;&nbsp;</span>User-interface to test our predictions</a></span></li><li><span><a href=\"#Try-a-different-prediction-model\" data-toc-modified-id=\"Try-a-different-prediction-model-8\"><span class=\"toc-item-num\">8&nbsp;&nbsp;</span>Try a different prediction model</a></span></li><li><span><a href=\"#Compare-the-two-models\" data-toc-modified-id=\"Compare-the-two-models-9\"><span class=\"toc-item-num\">9&nbsp;&nbsp;</span>Compare the two models</a></span></li><li><span><a href=\"#Discussion-here-about-the-two-models\" data-toc-modified-id=\"Discussion-here-about-the-two-models-10\"><span class=\"toc-item-num\">10&nbsp;&nbsp;</span>Discussion here about the two models</a></span></li><li><span><a href=\"#Export-the-results\" data-toc-modified-id=\"Export-the-results-11\"><span class=\"toc-item-num\">11&nbsp;&nbsp;</span>Export the results</a></span></li><li><span><a href=\"#Try-some-Python-commands-yourself\" data-toc-modified-id=\"Try-some-Python-commands-yourself-12\"><span class=\"toc-item-num\">12&nbsp;&nbsp;</span>Try some Python commands yourself</a></span></li><li><span><a href=\"#Next-steps-in-learning-Python\" data-toc-modified-id=\"Next-steps-in-learning-Python-13\"><span class=\"toc-item-num\">13&nbsp;&nbsp;</span>Next steps in learning Python</a></span></li></ul></div>"
   ]
  },
  {
   "cell_type": "markdown",
   "id": "according-cinema",
   "metadata": {},
   "source": [
    "# Details about this notebook\n",
    "\n",
    "In this notebook we demonstrate some Python usage, specifically around data analysis. We consider topics that you would do on a regular basis:\n",
    "\n",
    "* Reading in the data\n",
    "* Get a bit of an understanding of the data format\n",
    "* Merging it with another data set\n",
    "* Building a prediction model from your data\n",
    "* Exporting the results and sharing them with your colleagues."
   ]
  },
  {
   "cell_type": "markdown",
   "id": "colored-commons",
   "metadata": {},
   "source": [
    "## Case study description\n",
    "\n",
    "Goes here"
   ]
  },
  {
   "cell_type": "code",
   "execution_count": null,
   "id": "animated-prediction",
   "metadata": {},
   "outputs": [],
   "source": [
    "import numpy as np\n",
    "import pandas as pd\n",
    "import plotly\n",
    "#from ipysheet import sheet, column, to_dataframe, row\n",
    "import ipywidgets as widgets\n",
    "pd.options.plotting.backend = \"plotly\"\n",
    "import plotly.graph_objects as go\n",
    "import plotly.io as pio\n",
    "pio.renderers.default = \"notebook\" # jupyterlab\n",
    "from IPython.core.display import display, HTML\n",
    "display(HTML(\"<style>.container { width:90% !important; }</style>\"))"
   ]
  },
  {
   "cell_type": "markdown",
   "id": "dimensional-individual",
   "metadata": {},
   "source": [
    "## Read in the data set"
   ]
  },
  {
   "cell_type": "code",
   "execution_count": null,
   "id": "molecular-physics",
   "metadata": {},
   "outputs": [],
   "source": [
    "spectra = pd.read_excel(\"https://github.com/kgdunn/process-improve/raw/main/notebooks_examples/Tablets.xlsx\", sheet_name=\"Spectra\").set_index(\"Sample\")\n",
    "print(f\"Data shape = {spectra.shape}\")"
   ]
  },
  {
   "cell_type": "markdown",
   "id": "superior-associate",
   "metadata": {},
   "source": [
    "## Explore data: show some tables and plots"
   ]
  },
  {
   "cell_type": "code",
   "execution_count": null,
   "id": "academic-patio",
   "metadata": {},
   "outputs": [],
   "source": [
    "# Show the top of the data set\n",
    "spectra.head()"
   ]
  },
  {
   "cell_type": "code",
   "execution_count": null,
   "id": "successful-usage",
   "metadata": {},
   "outputs": [],
   "source": [
    "# Show the end of the data set\n",
    "spectra.tail()"
   ]
  },
  {
   "cell_type": "code",
   "execution_count": null,
   "id": "thick-import",
   "metadata": {},
   "outputs": [],
   "source": [
    "# Randomly select and show 10 rows\n",
    "spectra.sample(10)"
   ]
  },
  {
   "cell_type": "code",
   "execution_count": null,
   "id": "speaking-windows",
   "metadata": {},
   "outputs": [],
   "source": [
    "# Show a randomly selected row; and plot its spectrum\n",
    "spectra.sample(1).iloc[0].plot(title=\"Plot of a randomly selected spectrum\")"
   ]
  },
  {
   "cell_type": "code",
   "execution_count": null,
   "id": "regional-latino",
   "metadata": {},
   "outputs": [],
   "source": [
    "# Improve the figure; drop the first column away\n",
    "fig=spectra.sample(1).iloc[0, 1:].plot(title=\"Plot of a randomly selected spectrum\")\n",
    "fig.update_layout(xaxis_title_text=\"Wavelength [nm]\")\n",
    "fig.update_layout(yaxis_title_text=\"Absorbance\")"
   ]
  },
  {
   "cell_type": "markdown",
   "id": "prescribed-reset",
   "metadata": {},
   "source": [
    "## Load another dataset; merge the two data tables"
   ]
  },
  {
   "cell_type": "code",
   "execution_count": null,
   "id": "upset-administration",
   "metadata": {},
   "outputs": [],
   "source": [
    "output = pd.read_excel(\"Tablets.xlsx\", sheet_name=\"Hardness\").set_index(\"Sample\")\n",
    "print(f\"The 'outputs' data frame has shape = {output.shape}\")"
   ]
  },
  {
   "cell_type": "code",
   "execution_count": null,
   "id": "sexual-founder",
   "metadata": {},
   "outputs": [],
   "source": [
    "output.head()"
   ]
  },
  {
   "cell_type": "code",
   "execution_count": null,
   "id": "loved-electric",
   "metadata": {},
   "outputs": [],
   "source": [
    "# Explore the outputs\n",
    "display(output['Hardness'].plot.line())\n",
    "display(output['Hardness'].plot.hist(nbins=30))\n",
    "display(output['Hardness'].plot.box())"
   ]
  },
  {
   "cell_type": "code",
   "execution_count": null,
   "id": "productive-mixture",
   "metadata": {},
   "outputs": [],
   "source": [
    "# Summary statistics for each column\n",
    "display(output.mean())\n",
    "display(output.median())\n",
    "display(output.std())\n",
    "display(output.min())"
   ]
  },
  {
   "cell_type": "code",
   "execution_count": null,
   "id": "threatened-money",
   "metadata": {},
   "outputs": [],
   "source": [
    "# Get a complete summary\n",
    "output.describe()"
   ]
  },
  {
   "cell_type": "code",
   "execution_count": null,
   "id": "regulation-polymer",
   "metadata": {},
   "outputs": [],
   "source": []
  },
  {
   "cell_type": "code",
   "execution_count": null,
   "id": "patent-possible",
   "metadata": {},
   "outputs": [],
   "source": [
    "spectra.index"
   ]
  },
  {
   "cell_type": "code",
   "execution_count": null,
   "id": "coordinated-furniture",
   "metadata": {},
   "outputs": [],
   "source": [
    "output.index"
   ]
  },
  {
   "cell_type": "code",
   "execution_count": null,
   "id": "worthy-heading",
   "metadata": {},
   "outputs": [],
   "source": [
    "# Join the two data sets\n",
    "joined =spectra.merge(output, left_index=True, right_index=True)\n",
    "joined.columns\n"
   ]
  },
  {
   "cell_type": "code",
   "execution_count": null,
   "id": "placed-municipality",
   "metadata": {},
   "outputs": [],
   "source": [
    "# Plot the output, sorted:\n",
    "joined[\"Hardness\"].sort_values()\n",
    "joined[\"Hardness\"].sort_values().plot()"
   ]
  },
  {
   "cell_type": "code",
   "execution_count": null,
   "id": "brilliant-pepper",
   "metadata": {},
   "outputs": [],
   "source": [
    "# See the 4 groups, based on 'Category', for the output variable\n",
    "joined.groupby([\"Category\"])[\"Hardness\"].mean()"
   ]
  },
  {
   "cell_type": "code",
   "execution_count": null,
   "id": "handy-instrument",
   "metadata": {},
   "outputs": [],
   "source": [
    "# Now, repeat, but for the spectra\n",
    "joined.groupby([\"Category\"]).mean()"
   ]
  },
  {
   "cell_type": "code",
   "execution_count": null,
   "id": "approximate-fraud",
   "metadata": {},
   "outputs": [],
   "source": [
    "spectra.groupby([\"Category\"]).mean().T.plot()"
   ]
  },
  {
   "cell_type": "code",
   "execution_count": null,
   "id": "premium-essex",
   "metadata": {},
   "outputs": [],
   "source": [
    "# Select a column for a particular wavelength\n",
    "wavelength  = '1884nm'\n",
    "fig=joined.loc[:, wavelength].plot(title=f\"Plot of absorbances for all tablets at wavelength {wavelength}\")\n",
    "fig.update_layout(xaxis_title_text=\"Sample number\")\n",
    "fig.update_layout(yaxis_title_text=f\"Absorbance at {wavelength}\")"
   ]
  },
  {
   "cell_type": "markdown",
   "id": "retained-circumstances",
   "metadata": {},
   "source": [
    "## Choose a column and predict another column, based on a least-squares model"
   ]
  },
  {
   "cell_type": "code",
   "execution_count": null,
   "id": "thirty-ministry",
   "metadata": {},
   "outputs": [],
   "source": [
    "# Correlation plot at a particular wavelength against Hardness\n",
    "# Choose a column as x, to predict another column as y, based on a least-squares model\n",
    "\n",
    "wavelength  = \"1666nm\"\n",
    "two_columns = joined.loc[:, [wavelength, 'Hardness']]\n",
    "# display(two_columns)\n",
    "fig=two_columns.plot.scatter(x=wavelength, y='Hardness')\n",
    "fig.update_layout(xaxis_title_text=f\"Absorbance at {wavelength}\")\n",
    "fig.update_layout(yaxis_title_text=\"Hardness\")"
   ]
  },
  {
   "cell_type": "code",
   "execution_count": null,
   "id": "turned-following",
   "metadata": {},
   "outputs": [],
   "source": [
    "all_correlations = joined.corr()['Hardness']"
   ]
  },
  {
   "cell_type": "code",
   "execution_count": null,
   "id": "existing-prize",
   "metadata": {},
   "outputs": [],
   "source": [
    "all_correlations.apply(lambda x: x**2).plot()\n"
   ]
  },
  {
   "cell_type": "code",
   "execution_count": null,
   "id": "formal-peoples",
   "metadata": {},
   "outputs": [],
   "source": [
    "display(  all_correlations.max()          )\n",
    "display(  all_correlations[0:-1].max()    )\n",
    "display(  all_correlations[0:-1].argmax() )"
   ]
  },
  {
   "cell_type": "code",
   "execution_count": null,
   "id": "present-syria",
   "metadata": {},
   "outputs": [],
   "source": [
    "# So wavelength in position 533 is the largest: corresponds to wavelength ...\n",
    "maximum_column = 533\n",
    "joined.columns[maximum_column]"
   ]
  },
  {
   "cell_type": "code",
   "execution_count": null,
   "id": "married-tiger",
   "metadata": {},
   "outputs": [],
   "source": [
    "best_wavelength = \"1664nm\"\n",
    "joined.loc[:, best_wavelength]"
   ]
  },
  {
   "cell_type": "code",
   "execution_count": null,
   "id": "conceptual-terry",
   "metadata": {},
   "outputs": [],
   "source": [
    "## Choose a column and predict another column, based on a least-squares model\n",
    "from sklearn.linear_model import LinearRegression\n",
    "from sklearn.metrics import mean_squared_error, r2_score\n",
    "\n",
    "mymodel = LinearRegression()"
   ]
  },
  {
   "cell_type": "code",
   "execution_count": null,
   "id": "specified-northwest",
   "metadata": {},
   "outputs": [],
   "source": [
    "X = joined.loc[:, [best_wavelength]]\n",
    "mymodel.fit(X, y=joined[\"Hardness\"]);"
   ]
  },
  {
   "cell_type": "code",
   "execution_count": null,
   "id": "promotional-march",
   "metadata": {},
   "outputs": [],
   "source": [
    "# The coefficients\n",
    "print(f'Intercept = {mymodel.intercept_} and slope = {mymodel.coef_}')\n",
    "\n",
    "# The mean squared error:\n",
    "actual_y_values = joined[\"Hardness\"]\n",
    "predicted_y_values = mymodel.predict(X)\n",
    "prediction_error = actual_y_values - predicted_y_values    \n",
    "prediction_error.hist(nbins=40)"
   ]
  },
  {
   "cell_type": "code",
   "execution_count": null,
   "id": "instructional-extra",
   "metadata": {},
   "outputs": [],
   "source": [
    "joined[\"Predicted hardness\"] = mymodel.intercept_ + mymodel.coef_ * joined[best_wavelength]"
   ]
  },
  {
   "cell_type": "code",
   "execution_count": null,
   "id": "absolute-halifax",
   "metadata": {},
   "outputs": [],
   "source": [
    "# Plot the regression model, and fit\n",
    "three_columns = joined.loc[:, [best_wavelength, 'Hardness', \"Predicted hardness\"]]\n",
    "fig=three_columns.plot.scatter(x=best_wavelength, y='Hardness')\n",
    "fig.update_layout(xaxis_title_text=f\"Absorbance at {best_wavelength}\")\n",
    "fig.update_layout(yaxis_title_text=\"Hardness\")\n",
    "fig.add_scatter(x=three_columns[best_wavelength], y=three_columns['Predicted hardness'], name=\"Prediction\")"
   ]
  },
  {
   "cell_type": "markdown",
   "id": "touched-findings",
   "metadata": {},
   "source": [
    "## Quantify how good the predictions are"
   ]
  },
  {
   "cell_type": "code",
   "execution_count": null,
   "id": "stretch-fireplace",
   "metadata": {},
   "outputs": [],
   "source": [
    "print(f'Mean squared error: {mean_squared_error(actual_y_values, predicted_y_values, squared=False):.4g}')\n",
    "      \n",
    "# The coefficient of determination: (R^2)\n",
    "print(f'Coefficient of determination = R^2 = {r2_score(actual_y_values, predicted_y_values):.3f}')"
   ]
  },
  {
   "cell_type": "code",
   "execution_count": null,
   "id": "welsh-traffic",
   "metadata": {},
   "outputs": [],
   "source": []
  },
  {
   "cell_type": "markdown",
   "id": "rapid-punishment",
   "metadata": {},
   "source": [
    "## User-interface to test our predictions\n",
    "\n",
    "Build an interactive tool to find an ideal wavelength to make the predictions from."
   ]
  },
  {
   "cell_type": "code",
   "execution_count": null,
   "id": "advance-response",
   "metadata": {
    "code_folding": [
     0,
     12
    ]
   },
   "outputs": [],
   "source": [
    "def correlation_plot(wavelength):\n",
    "    fig=joined.plot.scatter(x=wavelength, y='Hardness')\n",
    "    fig.update_layout(xaxis_title_text=f\"Absorbance at {wavelength}\")\n",
    "    fig.update_layout(yaxis_title_text=\"Hardness\")    \n",
    "    fig.add_scatter(x=joined[wavelength], y=joined['Predicted hardness'], name=\"Prediction\", line_color=\"darkgreen\")\n",
    "    fig.update_layout(\n",
    "        width = 800,\n",
    "        height = 500,\n",
    "        title = \"Training data, with prediction line\"\n",
    "    )\n",
    "    fig.show()\n",
    "    \n",
    "def update_correlation_plot(wavelength_selected):\n",
    "    wavelength = f\"{int(wavelength_selected)}nm\"    \n",
    "    lsmodel = LinearRegression()\n",
    "    X = joined.loc[:, [wavelength]]\n",
    "    lsmodel.fit(X, y=joined[\"Hardness\"]);\n",
    "    predicted_y_values = lsmodel.predict(X)\n",
    "    joined['Predicted hardness'] = predicted_y_values\n",
    "    actual_y_values = joined[\"Hardness\"]\n",
    "    prediction_error = actual_y_values - predicted_y_values    \n",
    "    spm = correlation_plot(wavelength=wavelength);\n",
    "    print(f'Intercept = {lsmodel.intercept_:.3g} and slope = {lsmodel.coef_[0]:.3g}')\n",
    "    print(f'Mean squared error: {mean_squared_error(actual_y_values, predicted_y_values, squared=False):.4g}')\n",
    "    print(f'Coefficient of determination = R^2 = {r2_score(actual_y_values, predicted_y_values):.3f}')\n",
    "\n",
    "    \n",
    "    # TODO: show 4 plots: scatter plot, error histogram, spectra with vertical line\n",
    "    # TODO: do a plot update, to avoid 'flashing' figures\n",
    "        \n",
    "wavelength_selected = widgets.FloatSlider(min=1600, \n",
    "                                          max=1898, \n",
    "                                          step=2, \n",
    "                                          value=1600, \n",
    "                                          readout_format=\"d\",\n",
    "                                          continuous_update=False,\n",
    "                                          description='Wavelength')\n",
    "ui = widgets.VBox([wavelength_selected])\n",
    "out = widgets.interactive_output(update_correlation_plot, {'wavelength_selected': wavelength_selected});\n",
    "display(ui,out);\n",
    "wavelength_selected.value += 2"
   ]
  },
  {
   "cell_type": "code",
   "execution_count": null,
   "id": "cultural-money",
   "metadata": {},
   "outputs": [],
   "source": []
  },
  {
   "cell_type": "markdown",
   "id": "absent-jesus",
   "metadata": {},
   "source": [
    "## Try a different prediction model\n",
    "\n",
    "Use multiple columns to predict the tablet hardness."
   ]
  },
  {
   "cell_type": "code",
   "execution_count": null,
   "id": "civic-visitor",
   "metadata": {},
   "outputs": [],
   "source": [
    "## Calculation: use the average of some columns around the best column\n",
    "spectra.loc[:, \"1654nm\":\"1674nm\"]    "
   ]
  },
  {
   "cell_type": "code",
   "execution_count": null,
   "id": "double-pizza",
   "metadata": {},
   "outputs": [],
   "source": [
    "avg_model = LinearRegression()\n",
    "X = spectra.loc[:, \"1654nm\":\"1674nm\"] #.mean(axis=1).values\n",
    "avg_model.fit(X, y=joined[\"Hardness\"]);"
   ]
  },
  {
   "cell_type": "code",
   "execution_count": null,
   "id": "executed-metro",
   "metadata": {},
   "outputs": [],
   "source": [
    "# The coefficients\n",
    "print(f'Intercept = {avg_model.intercept_} and slope = {avg_model.coef_}')\n",
    "\n",
    "# The mean squared error:\n",
    "predicted_y_values_avgmodel = avg_model.predict(X)\n",
    "prediction_error_avgmodel = actual_y_values - predicted_y_values_avgmodel    \n",
    "prediction_error_avgmodel.hist(nbins=40)"
   ]
  },
  {
   "cell_type": "code",
   "execution_count": null,
   "id": "scenic-bracket",
   "metadata": {},
   "outputs": [],
   "source": []
  },
  {
   "cell_type": "markdown",
   "id": "pleased-sense",
   "metadata": {},
   "source": [
    "## Compare the two models"
   ]
  },
  {
   "cell_type": "code",
   "execution_count": null,
   "id": "ethical-favorite",
   "metadata": {},
   "outputs": [],
   "source": [
    "print(f'Mean squared error (single): {mean_squared_error(actual_y_values, predicted_y_values, squared=False):.4g}')\n",
    "print(f'Mean squared error (multiple): {mean_squared_error(actual_y_values, predicted_y_values_avgmodel, squared=False):.4g}')\n",
    "\n",
    "# The coefficient of determination: (R^2)\n",
    "print(f'Coefficient of determination (single) = R^2 = {r2_score(actual_y_values, predicted_y_values):.3f}')\n",
    "print(f'Coefficient of determination (multiple) = R^2 = {r2_score(actual_y_values, predicted_y_values_avgmodel):.3f}')"
   ]
  },
  {
   "cell_type": "code",
   "execution_count": null,
   "id": "fitted-spending",
   "metadata": {},
   "outputs": [],
   "source": [
    "#joined[\"Predicted hardness (multiple)\"] = \n",
    "#avg_model.intercept_ + \n",
    "pd.Series(avg_model.coef_).plot.bar()# * X"
   ]
  },
  {
   "cell_type": "markdown",
   "id": "floating-laptop",
   "metadata": {},
   "source": [
    "## Discussion here about the two models\n",
    "\n",
    "Undesirable aspects of the multiple linear regression."
   ]
  },
  {
   "cell_type": "markdown",
   "id": "veterinary-midwest",
   "metadata": {},
   "source": [
    "## Export the results"
   ]
  },
  {
   "cell_type": "code",
   "execution_count": null,
   "id": "unlimited-viewer",
   "metadata": {},
   "outputs": [],
   "source": [
    "## Export image to PNG or PDF"
   ]
  },
  {
   "cell_type": "code",
   "execution_count": null,
   "id": "protective-arrow",
   "metadata": {},
   "outputs": [],
   "source": []
  },
  {
   "cell_type": "code",
   "execution_count": null,
   "id": "accurate-while",
   "metadata": {},
   "outputs": [],
   "source": []
  },
  {
   "cell_type": "markdown",
   "id": "dietary-graham",
   "metadata": {},
   "source": [
    "## Try some Python commands yourself"
   ]
  },
  {
   "cell_type": "code",
   "execution_count": null,
   "id": "improving-secretary",
   "metadata": {},
   "outputs": [],
   "source": [
    "print('Hi, my name is ____.')"
   ]
  },
  {
   "cell_type": "code",
   "execution_count": null,
   "id": "offshore-tension",
   "metadata": {},
   "outputs": [],
   "source": [
    "# Creating variables:\n",
    "\n",
    "temperature_in_F = 212.0\n",
    "temperature_in_C = ...\n"
   ]
  },
  {
   "cell_type": "code",
   "execution_count": null,
   "id": "silver-midnight",
   "metadata": {},
   "outputs": [],
   "source": []
  },
  {
   "cell_type": "code",
   "execution_count": null,
   "id": "auburn-gathering",
   "metadata": {},
   "outputs": [],
   "source": []
  },
  {
   "cell_type": "markdown",
   "id": "digital-jason",
   "metadata": {},
   "source": [
    "## Next steps in learning Python"
   ]
  },
  {
   "cell_type": "code",
   "execution_count": null,
   "id": "sound-breed",
   "metadata": {},
   "outputs": [],
   "source": []
  }
 ],
 "metadata": {
  "hide_input": false,
  "kernelspec": {
   "display_name": "Python 3",
   "language": "python",
   "name": "python3"
  },
  "language_info": {
   "codemirror_mode": {
    "name": "ipython",
    "version": 3
   },
   "file_extension": ".py",
   "mimetype": "text/x-python",
   "name": "python",
   "nbconvert_exporter": "python",
   "pygments_lexer": "ipython3",
   "version": "3.8.5"
  },
  "toc": {
   "base_numbering": 1,
   "nav_menu": {},
   "number_sections": true,
   "sideBar": true,
   "skip_h1_title": true,
   "title_cell": "Table of Contents",
   "title_sidebar": "Contents",
   "toc_cell": true,
   "toc_position": {
    "height": "calc(100% - 180px)",
    "left": "10px",
    "top": "150px",
    "width": "179.091px"
   },
   "toc_section_display": true,
   "toc_window_display": true
  },
  "varInspector": {
   "cols": {
    "lenName": 16,
    "lenType": 16,
    "lenVar": 40
   },
   "kernels_config": {
    "python": {
     "delete_cmd_postfix": "",
     "delete_cmd_prefix": "del ",
     "library": "var_list.py",
     "varRefreshCmd": "print(var_dic_list())"
    },
    "r": {
     "delete_cmd_postfix": ") ",
     "delete_cmd_prefix": "rm(",
     "library": "var_list.r",
     "varRefreshCmd": "cat(var_dic_list()) "
    }
   },
   "types_to_exclude": [
    "module",
    "function",
    "builtin_function_or_method",
    "instance",
    "_Feature"
   ],
   "window_display": false
  }
 },
 "nbformat": 4,
 "nbformat_minor": 5
}
