{
 "cells": [
  {
   "cell_type": "markdown",
   "id": "dependent-comedy",
   "metadata": {
    "toc": true
   },
   "source": [
    "<h1>Table of Contents<span class=\"tocSkip\"></span></h1>\n",
    "<div class=\"toc\"><ul class=\"toc-item\"><li><span><a href=\"#Case-study-description\" data-toc-modified-id=\"Case-study-description-1\"><span class=\"toc-item-num\">1&nbsp;&nbsp;</span>Case study description</a></span></li><li><span><a href=\"#Try-some-Python-commands-yourself\" data-toc-modified-id=\"Try-some-Python-commands-yourself-2\"><span class=\"toc-item-num\">2&nbsp;&nbsp;</span>Try some Python commands yourself</a></span></li></ul></div>"
   ]
  },
  {
   "cell_type": "markdown",
   "id": "herbal-deployment",
   "metadata": {},
   "source": [
    "Details about the notebook\n",
    "\n",
    "* Load data\n",
    "* Explore data: table, plots\n",
    "* Load another dataset and merge\n",
    "* Choose a column and predict another column, based on a least-squares model\n",
    "* Quantify how good the predictions are\n",
    "* Try different prediction models\n",
    "* User-interface to test our predictions\n",
    "* Export the results\n",
    "* Try Python commands yourself\n",
    "* Next steps"
   ]
  },
  {
   "cell_type": "markdown",
   "id": "ruled-stream",
   "metadata": {},
   "source": [
    "## Case study description\n",
    "\n",
    "Goes here"
   ]
  },
  {
   "cell_type": "code",
   "execution_count": null,
   "id": "flush-blend",
   "metadata": {},
   "outputs": [],
   "source": [
    "import plotly.io as pio\n",
    "pio.renderers.default = \"notebook\" # jupyterlab"
   ]
  },
  {
   "cell_type": "code",
   "execution_count": null,
   "id": "olympic-bahrain",
   "metadata": {},
   "outputs": [],
   "source": [
    "import plotly.graph_objects as go"
   ]
  },
  {
   "cell_type": "code",
   "execution_count": null,
   "id": "applicable-fundamental",
   "metadata": {},
   "outputs": [],
   "source": [
    "import numpy as np\n",
    "import pandas as pd\n",
    "import plotly\n",
    "pd.options.plotting.backend = \"plotly\""
   ]
  },
  {
   "cell_type": "code",
   "execution_count": null,
   "id": "confident-fundamental",
   "metadata": {},
   "outputs": [],
   "source": [
    "spectra = pd.read_csv('calX.csv', index_col=0)\n",
    "spectra.shape"
   ]
  },
  {
   "cell_type": "code",
   "execution_count": null,
   "id": "sized-cartridge",
   "metadata": {},
   "outputs": [],
   "source": []
  },
  {
   "cell_type": "code",
   "execution_count": null,
   "id": "failing-lounge",
   "metadata": {},
   "outputs": [],
   "source": [
    "# Fix up the column names: spectral wavelengths, from 600 to 1900nm, in steps of 2nm\n",
    "spectra.columns = np.arange(600, 1900, 2)   # (start, stop, stepsize)"
   ]
  },
  {
   "cell_type": "code",
   "execution_count": null,
   "id": "sharp-music",
   "metadata": {},
   "outputs": [],
   "source": [
    "spectra.head()"
   ]
  },
  {
   "cell_type": "code",
   "execution_count": null,
   "id": "sunset-large",
   "metadata": {},
   "outputs": [],
   "source": [
    "#df = spectra.T\n",
    "#df.shape"
   ]
  },
  {
   "cell_type": "code",
   "execution_count": null,
   "id": "activated-intersection",
   "metadata": {},
   "outputs": [],
   "source": [
    "# Show the top of the data set\n",
    "#df.head()"
   ]
  },
  {
   "cell_type": "code",
   "execution_count": null,
   "id": "cheap-westminster",
   "metadata": {},
   "outputs": [],
   "source": [
    "# Show the end of the data set\n",
    "#df.tail()"
   ]
  },
  {
   "cell_type": "code",
   "execution_count": null,
   "id": "authorized-bermuda",
   "metadata": {},
   "outputs": [],
   "source": [
    "# Show 10 randomly selected rows\n",
    "#df.sample(10)"
   ]
  },
  {
   "cell_type": "code",
   "execution_count": null,
   "id": "third-israel",
   "metadata": {},
   "outputs": [],
   "source": [
    "# Show a randomly selected row; and plot these rows\n",
    "spectra.sample(1).iloc[0].plot(title=\"Plot of a randomly selected spectrum\")\n"
   ]
  },
  {
   "cell_type": "code",
   "execution_count": null,
   "id": "forced-generic",
   "metadata": {},
   "outputs": [],
   "source": [
    "# Improve the figure\n",
    "fig=spectra.sample(1).iloc[0].plot(title=\"Plot of a randomly selected spectrum\")\n",
    "fig.update_layout(xaxis_title_text=\"Wavelength [nm]\")\n",
    "fig.update_layout(yaxis_title_text=\"Absorbance\")"
   ]
  },
  {
   "cell_type": "code",
   "execution_count": null,
   "id": "pediatric-policy",
   "metadata": {},
   "outputs": [],
   "source": [
    "outputs = pd.read_csv('calY.csv', index_col=0)\n",
    "outputs.shape"
   ]
  },
  {
   "cell_type": "code",
   "execution_count": null,
   "id": "technical-drilling",
   "metadata": {},
   "outputs": [],
   "source": [
    "outputs.head()"
   ]
  },
  {
   "cell_type": "code",
   "execution_count": null,
   "id": "yellow-publisher",
   "metadata": {},
   "outputs": [],
   "source": [
    "outputs.columns = ['Hardness', 'Activity', 'Something']\n",
    "outputs"
   ]
  },
  {
   "cell_type": "code",
   "execution_count": null,
   "id": "educated-priority",
   "metadata": {},
   "outputs": [],
   "source": [
    "# Explore the outputs\n",
    "display(outputs['Something'].plot.line())\n",
    "display(outputs['Something'].plot.hist(nbins=30))\n",
    "display(outputs['Something'].plot.box())"
   ]
  },
  {
   "cell_type": "code",
   "execution_count": null,
   "id": "theoretical-transsexual",
   "metadata": {},
   "outputs": [],
   "source": [
    "# Summary statistics for each column\n",
    "display(outputs.mean())\n",
    "display(outputs.median())\n",
    "display(outputs.std())\n",
    "display(outputs.min())\n"
   ]
  },
  {
   "cell_type": "code",
   "execution_count": null,
   "id": "duplicate-dodge",
   "metadata": {},
   "outputs": [],
   "source": [
    "spectra.index\n"
   ]
  },
  {
   "cell_type": "code",
   "execution_count": null,
   "id": "furnished-practice",
   "metadata": {},
   "outputs": [],
   "source": [
    "outputs.index"
   ]
  },
  {
   "cell_type": "code",
   "execution_count": null,
   "id": "stunning-reduction",
   "metadata": {},
   "outputs": [],
   "source": [
    "# Join the two data sets\n",
    "joined = spectra.merge(outputs, left_index=True, right_index=True)\n"
   ]
  },
  {
   "cell_type": "code",
   "execution_count": null,
   "id": "confirmed-league",
   "metadata": {},
   "outputs": [],
   "source": []
  },
  {
   "cell_type": "code",
   "execution_count": null,
   "id": "departmental-newton",
   "metadata": {},
   "outputs": [],
   "source": [
    "joined.columns\n"
   ]
  },
  {
   "cell_type": "code",
   "execution_count": null,
   "id": "enclosed-robertson",
   "metadata": {},
   "outputs": [],
   "source": [
    "# Select a column for a particular wavelength\n",
    "wavelength  = 1800\n",
    "fig=joined.loc[:, wavelength].plot(title=f\"Plot of absorbances for all tablets at wavelength {wavelength} nm\")\n",
    "fig.update_layout(xaxis_title_text=\"Tablet number\")\n",
    "fig.update_layout(yaxis_title_text=f\"Absorbance at {wavelength} nm\")"
   ]
  },
  {
   "cell_type": "code",
   "execution_count": null,
   "id": "sticky-participant",
   "metadata": {},
   "outputs": [],
   "source": [
    "# Correlation plot at a particular wavelength against ____\n",
    "wavelength  = 1666\n",
    "two_columns = joined.loc[:, [wavelength, 'Something']]\n",
    "# display(two_columns)\n",
    "fig=two_columns.plot.scatter(x=wavelength, y='Something')\n",
    "fig.update_layout(xaxis_title_text=f\"Absorbance at {wavelength} nm\")\n",
    "fig.update_layout(yaxis_title_text=\"Something\")"
   ]
  },
  {
   "cell_type": "code",
   "execution_count": null,
   "id": "differential-central",
   "metadata": {},
   "outputs": [],
   "source": [
    "# TODO: slider to find the strongest correlation"
   ]
  },
  {
   "cell_type": "code",
   "execution_count": null,
   "id": "capital-review",
   "metadata": {},
   "outputs": [],
   "source": []
  },
  {
   "cell_type": "code",
   "execution_count": null,
   "id": "accessory-metallic",
   "metadata": {},
   "outputs": [],
   "source": [
    "all_correlations = joined.corr()['Something']"
   ]
  },
  {
   "cell_type": "code",
   "execution_count": null,
   "id": "forward-bailey",
   "metadata": {},
   "outputs": [],
   "source": [
    "all_correlations.plot()"
   ]
  },
  {
   "cell_type": "code",
   "execution_count": null,
   "id": "fallen-slide",
   "metadata": {},
   "outputs": [],
   "source": [
    "display(  all_correlations.max()          )\n",
    "display(  all_correlations[0:-1].max()    )\n",
    "display(  all_correlations[0:-1].argmax() )"
   ]
  },
  {
   "cell_type": "code",
   "execution_count": null,
   "id": "statewide-tension",
   "metadata": {},
   "outputs": [],
   "source": [
    "# So wavelength in position 533 is the largest: corresponds to wavelength ...\n",
    "joined.columns[533]"
   ]
  },
  {
   "cell_type": "code",
   "execution_count": null,
   "id": "prepared-rotation",
   "metadata": {},
   "outputs": [],
   "source": [
    "best_wavelength = 1666\n",
    "joined.loc[:, best_wavelength]"
   ]
  },
  {
   "cell_type": "code",
   "execution_count": null,
   "id": "paperback-transmission",
   "metadata": {},
   "outputs": [],
   "source": [
    "from sklearn.linear_model import LinearRegression\n",
    "from sklearn.metrics import mean_squared_error, r2_score\n",
    "\n",
    "mymodel = LinearRegression()"
   ]
  },
  {
   "cell_type": "code",
   "execution_count": null,
   "id": "ruled-affair",
   "metadata": {},
   "outputs": [],
   "source": [
    "X = joined.loc[:, [best_wavelength]]\n",
    "mymodel.fit(X, y=joined[\"Something\"])"
   ]
  },
  {
   "cell_type": "code",
   "execution_count": null,
   "id": "sharp-detroit",
   "metadata": {},
   "outputs": [],
   "source": [
    "# The coefficients\n",
    "print(f'Intercept = {mymodel.intercept_} and slope = {mymodel.coef_}')\n",
    "\n",
    "# The mean squared error:\n",
    "actual_y_values = joined[\"Something\"]\n",
    "predicted_y_values = mymodel.predict(X)\n",
    "prediction_error = actual_y_values - predicted_y_values    \n",
    "fig=prediction_error.hist(nbins=40)"
   ]
  },
  {
   "cell_type": "code",
   "execution_count": null,
   "id": "sunrise-congress",
   "metadata": {},
   "outputs": [],
   "source": [
    "print(f'Mean squared error: {mean_squared_error(actual_y_values, predicted_y_values, squared=False)}')\n",
    "      \n",
    "# The coefficient of determination: (R^2)\n",
    "print(f'Coefficient of determination = R^2 = {r2_score(actual_y_values, predicted_y_values):.3f}')"
   ]
  },
  {
   "cell_type": "code",
   "execution_count": null,
   "id": "retained-scholarship",
   "metadata": {},
   "outputs": [],
   "source": [
    "\n"
   ]
  },
  {
   "cell_type": "markdown",
   "id": "similar-blade",
   "metadata": {},
   "source": [
    "## Try some Python commands yourself"
   ]
  },
  {
   "cell_type": "code",
   "execution_count": null,
   "id": "entire-intersection",
   "metadata": {},
   "outputs": [],
   "source": [
    "print('Hi, my name is ____.')"
   ]
  },
  {
   "cell_type": "code",
   "execution_count": null,
   "id": "martial-english",
   "metadata": {},
   "outputs": [],
   "source": [
    "# Creating variables:\n",
    "\n",
    "temperature_in_F = 212.0\n",
    "temperature_in_C = ...\n"
   ]
  },
  {
   "cell_type": "code",
   "execution_count": null,
   "id": "charming-motor",
   "metadata": {},
   "outputs": [],
   "source": []
  },
  {
   "cell_type": "code",
   "execution_count": null,
   "id": "competitive-cruise",
   "metadata": {},
   "outputs": [],
   "source": []
  }
 ],
 "metadata": {
  "hide_input": false,
  "kernelspec": {
   "display_name": "Python 3.8.1 64-bit ('datamore': conda)",
   "language": "python",
   "name": "python38164bitdatamorecondaa593c68fc1f346a2934b9009f36eb8d6"
  },
  "language_info": {
   "codemirror_mode": {
    "name": "ipython",
    "version": 3
   },
   "file_extension": ".py",
   "mimetype": "text/x-python",
   "name": "python",
   "nbconvert_exporter": "python",
   "pygments_lexer": "ipython3",
   "version": "3.8.1"
  },
  "toc": {
   "base_numbering": 1,
   "nav_menu": {},
   "number_sections": true,
   "sideBar": true,
   "skip_h1_title": true,
   "title_cell": "Table of Contents",
   "title_sidebar": "Contents",
   "toc_cell": true,
   "toc_position": {},
   "toc_section_display": true,
   "toc_window_display": true
  },
  "varInspector": {
   "cols": {
    "lenName": 16,
    "lenType": 16,
    "lenVar": 40
   },
   "kernels_config": {
    "python": {
     "delete_cmd_postfix": "",
     "delete_cmd_prefix": "del ",
     "library": "var_list.py",
     "varRefreshCmd": "print(var_dic_list())"
    },
    "r": {
     "delete_cmd_postfix": ") ",
     "delete_cmd_prefix": "rm(",
     "library": "var_list.r",
     "varRefreshCmd": "cat(var_dic_list()) "
    }
   },
   "types_to_exclude": [
    "module",
    "function",
    "builtin_function_or_method",
    "instance",
    "_Feature"
   ],
   "window_display": false
  }
 },
 "nbformat": 4,
 "nbformat_minor": 5
}
